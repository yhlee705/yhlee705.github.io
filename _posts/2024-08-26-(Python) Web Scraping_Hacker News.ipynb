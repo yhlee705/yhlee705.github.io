{
 "cells": [
  {
   "cell_type": "code",
   "execution_count": 19,
   "metadata": {},
   "outputs": [],
   "source": [
    "from bs4 import BeautifulSoup\n",
    "import requests\n",
    "import lxml\n",
    "import pprint"
   ]
  },
  {
   "cell_type": "markdown",
   "metadata": {},
   "source": [
    "Scraping하고자 하는 웹사이트의 소스코드를 가져옴"
   ]
  },
  {
   "cell_type": "code",
   "execution_count": 12,
   "metadata": {},
   "outputs": [
    {
     "name": "stdout",
     "output_type": "stream",
     "text": [
      "<html lang=\"en\" op=\"news\"><head><meta name=\"referrer\" content=\"origin\"><meta name=\"viewport\" content=\"width=device-width, initial-scale=1.0\"><link rel=\"stylesheet\" type=\"text/css\" href=\"news.css?mx3HVgoxPRU3ruORG7vE\">\n",
      "        <link rel=\"icon\" href=\"y18.svg\">\n",
      "                  <link rel=\"alternate\" type=\"application/rss+xml\" title=\"RSS\" href=\"rss\">\n",
      "        <title>Hacker News</title></head><body><center><table id=\"hnmain\" border=\"0\" cellpadding=\"0\" cellspacing=\"0\" width=\"85%\" bgcolor=\"#f6f6ef\">\n",
      "        <tr><td bgcolor=\"#ff6600\"><table border=\"0\" cellpadding=\"0\" cellspacing=\"0\" width=\"100%\" style=\"padding:2px\"><tr><td style=\"width:18px;padding-right:4px\"><a href=\"https://news.ycombinator.com\"><img src=\"y18.svg\" width=\"18\" height=\"18\" style=\"border:1px white solid; display:block\"></a></td>\n",
      "                  <td style=\"line-height:12pt; height:10px;\"><span class=\"pagetop\"><b class=\"hnname\"><a href=\"news\">Hacker News</a></b>\n",
      "                            <a href=\"newest\">new</a> | <a href=\"front\">past</a> | <a href=\"newcomments\">comments</a> | <a href=\"ask\">ask</a> | <a href=\"show\">show</a> | <a href=\"jobs\">jobs</a> | <a href=\"submit\" rel=\"nofollow\">submit</a>            </span></td><td style=\"text-align:right;padding-right:4px;\"><span class=\"pagetop\">\n",
      "                              <a href=\"login?goto=news\">login</a>\n",
      "                          </span></td>\n",
      "              </tr></table></td></tr>\n",
      "<tr id=\"pagespace\" title=\"\" style=\"height:10px\"></tr><tr><td><table border=\"0\" cellpadding=\"0\" cellspacing=\"0\">\n",
      "            <tr class='athing' id='41350530'>\n",
      "      <td align=\"right\" valign=\"top\" class=\"title\"><span class=\"rank\">1.</span></td>      <td valign=\"top\" class=\"votelinks\"><center><a id='up_41350530' href='vote?id=41350530&amp;how=up&amp;goto=news'><div class='votearrow' title='upvote'></div></a></center></td><td class=\"title\"><span class=\"titleline\"><a href=\"https://blog.cryptographyengineering.com/2024/08/25/telegram-is-not-really-an-encrypted-messaging-app/\">Is Telegram really an encrypted messaging app?</a><span class=\"sitebit comhead\"> (<a href=\"from?site=cryptographyengineering.com\"><span class=\"sitestr\">cryptographyengineering.com</span></a>)</span></span></td></tr><tr><td colspan=\"2\"></td><td class=\"subtext\"><span class=\"subline\">\n",
      "          <span class=\"score\" id=\"score_41350530\">55 points</span> by <a href=\"user?id=md224\" class=\"hnuser\">md224</a> <span class=\"age\" title=\"2024-08-25T19:34:53\"><a href=\"item?id=41350530\">22 minutes ago</a></span> <span id=\"unv_41350530\"></span> | <a href=\"hide?id=41350530&amp;goto=news\">hide</a> | <a href=\"item?id=41350530\">13&nbsp;comments</a>        </span>\n",
      "              </td></tr>\n",
      "      <tr class=\"spacer\" style=\"height:5px\"></tr>\n",
      "                <tr class='athing' id='41350273'>\n",
      "      <td align=\"right\" valign=\"top\" class=\"title\"><span class=\"rank\">2.</span></td>      <td valign=\"top\" class=\"votelinks\"><center><a id='up_41350273' href='vote?id=41350273&amp;how=up&amp;goto=news'><div class='votearrow' title='upvote'></div></a></center></td><td class=\"title\"><span class=\"titleline\"><a href=\"https://dl.acm.org/doi/full/10.1145/3613904.3642919\">GenAI diminishes creativity instead of inspiration</a><span class=\"sitebit comhead\"> (<a href=\"from?site=acm.org\"><span class=\"sitestr\">acm.org</span></a>)</span></span></td></tr><tr><td colspan=\"2\"></td><td class=\"subtext\"><span class=\"subline\">\n",
      "          <span class=\"score\" id=\"score_41350273\">19 points</span> by <a href=\"user?id=pixiemaster\" class=\"hnuser\">pixiemaster</a> <span class=\"age\" title=\"2024-08-25T19:11:03\"><a href=\"item?id=41350273\">45 minutes ago</a></span> <span id=\"unv_41350273\"></span> | <a href=\"hide?id=41350273&amp;goto=news\">hide</a> | <a href=\"item?id=41350273\">discuss</a>        </span>\n",
      "              </td></tr>\n",
      "      <tr class=\"spacer\" style=\"height:5px\"></tr>\n",
      "                <tr class='athing' id='41347016'>\n",
      "      <td align=\"right\" valign=\"top\" class=\"title\"><span class=\"rank\">3.</span></td>      <td valign=\"top\" class=\"votelinks\"><center><a id='up_41347016' href='vote?id=41347016&amp;how=up&amp;goto=news'><div class='votearrow' title='upvote'></div></a></center></td><td class=\"title\"><span class=\"titleline\"><a href=\"https://www.strandbeest.com/\">Strandbeest</a><span class=\"sitebit comhead\"> (<a href=\"from?site=strandbeest.com\"><span class=\"sitestr\">strandbeest.com</span></a>)</span></span></td></tr><tr><td colspan=\"2\"></td><td class=\"subtext\"><span class=\"subline\">\n",
      "          <span class=\"score\" id=\"score_41347016\">240 points</span> by <a href=\"user?id=nicopappl\" class=\"hnuser\">nicopappl</a> <span class=\"age\" title=\"2024-08-25T13:06:08\"><a href=\"item?id=41347016\">6 hours ago</a></span> <span id=\"unv_41347016\"></span> | <a href=\"hide?id=41347016&amp;goto=news\">hide</a> | <a href=\"item?id=41347016\">63&nbsp;comments</a>        </span>\n",
      "              </td></tr>\n",
      "      <tr class=\"spacer\" style=\"height:5px\"></tr>\n",
      "                <tr class='athing' id='41350225'>\n",
      "      <td align=\"right\" valign=\"top\" class=\"title\"><span class=\"rank\">4.</span></td>      <td valign=\"top\" class=\"votelinks\"><center><a id='up_41350225' href='vote?id=41350225&amp;how=up&amp;goto=news'><div class='votearrow' title='upvote'></div></a></center></td><td class=\"title\"><span class=\"titleline\"><a href=\"https://ntietz.com/blog/til-uses-for-the-different-uuid-versions/\">TIL: Versions of UUID and when to use them</a><span class=\"sitebit comhead\"> (<a href=\"from?site=ntietz.com\"><span class=\"sitestr\">ntietz.com</span></a>)</span></span></td></tr><tr><td colspan=\"2\"></td><td class=\"subtext\"><span class=\"subline\">\n",
      "          <span class=\"score\" id=\"score_41350225\">12 points</span> by <a href=\"user?id=fagnerbrack\" class=\"hnuser\">fagnerbrack</a> <span class=\"age\" title=\"2024-08-25T19:05:20\"><a href=\"item?id=41350225\">51 minutes ago</a></span> <span id=\"unv_41350225\"></span> | <a href=\"hide?id=41350225&amp;goto=news\">hide</a> | <a href=\"item?id=41350225\">discuss</a>        </span>\n",
      "              </td></tr>\n",
      "      <tr class=\"spacer\" style=\"height:5px\"></tr>\n",
      "                <tr class='athing' id='41348659'>\n",
      "      <td align=\"right\" valign=\"top\" class=\"title\"><span class=\"rank\">5.</span></td>      <td valign=\"top\" class=\"votelinks\"><center><a id='up_41348659' href='vote?id=41348659&amp;how=up&amp;goto=news'><div class='votearrow' title='upvote'></div></a></center></td><td class=\"title\"><span class=\"titleline\"><a href=\"https://horovits.medium.com/lidl-is-taking-on-aws-the-age-of-eurocloud-b237258e3311\">Lidl&#x27;s Cloud Gambit: Europe&#x27;s Shift to Sovereign Computing</a><span class=\"sitebit comhead\"> (<a href=\"from?site=horovits.medium.com\"><span class=\"sitestr\">horovits.medium.com</span></a>)</span></span></td></tr><tr><td colspan=\"2\"></td><td class=\"subtext\"><span class=\"subline\">\n",
      "          <span class=\"score\" id=\"score_41348659\">172 points</span> by <a href=\"user?id=taubek\" class=\"hnuser\">taubek</a> <span class=\"age\" title=\"2024-08-25T16:35:52\"><a href=\"item?id=41348659\">3 hours ago</a></span> <span id=\"unv_41348659\"></span> | <a href=\"hide?id=41348659&amp;goto=news\">hide</a> | <a href=\"item?id=41348659\">156&nbsp;comments</a>        </span>\n",
      "              </td></tr>\n",
      "      <tr class=\"spacer\" style=\"height:5px\"></tr>\n",
      "                <tr class='athing' id='41350286'>\n",
      "      <td align=\"right\" valign=\"top\" class=\"title\"><span class=\"rank\">6.</span></td>      <td valign=\"top\" class=\"votelinks\"><center><a id='up_41350286' href='vote?id=41350286&amp;how=up&amp;goto=news'><div class='votearrow' title='upvote'></div></a></center></td><td class=\"title\"><span class=\"titleline\"><a href=\"https://theconversation.com/los-angeles-is-in-a-4-year-sprint-to-deliver-a-car-free-2028-olympics-236925\">Los Angeles is in a 4-year sprint to deliver a car-free 2028 Olympics</a><span class=\"sitebit comhead\"> (<a href=\"from?site=theconversation.com\"><span class=\"sitestr\">theconversation.com</span></a>)</span></span></td></tr><tr><td colspan=\"2\"></td><td class=\"subtext\"><span class=\"subline\">\n",
      "          <span class=\"score\" id=\"score_41350286\">32 points</span> by <a href=\"user?id=rntn\" class=\"hnuser\">rntn</a> <span class=\"age\" title=\"2024-08-25T19:12:23\"><a href=\"item?id=41350286\">44 minutes ago</a></span> <span id=\"unv_41350286\"></span> | <a href=\"hide?id=41350286&amp;goto=news\">hide</a> | <a href=\"item?id=41350286\">18&nbsp;comments</a>        </span>\n",
      "              </td></tr>\n",
      "      <tr class=\"spacer\" style=\"height:5px\"></tr>\n",
      "                <tr class='athing' id='41348204'>\n",
      "      <td align=\"right\" valign=\"top\" class=\"title\"><span class=\"rank\">7.</span></td>      <td valign=\"top\" class=\"votelinks\"><center><a id='up_41348204' href='vote?id=41348204&amp;how=up&amp;goto=news'><div class='votearrow' title='upvote'></div></a></center></td><td class=\"title\"><span class=\"titleline\"><a href=\"https://github.com/flxzt/rnote\">Rnote – Sketch and take handwritten notes</a><span class=\"sitebit comhead\"> (<a href=\"from?site=github.com/flxzt\"><span class=\"sitestr\">github.com/flxzt</span></a>)</span></span></td></tr><tr><td colspan=\"2\"></td><td class=\"subtext\"><span class=\"subline\">\n",
      "          <span class=\"score\" id=\"score_41348204\">74 points</span> by <a href=\"user?id=Brajeshwar\" class=\"hnuser\">Brajeshwar</a> <span class=\"age\" title=\"2024-08-25T15:51:11\"><a href=\"item?id=41348204\">4 hours ago</a></span> <span id=\"unv_41348204\"></span> | <a href=\"hide?id=41348204&amp;goto=news\">hide</a> | <a href=\"item?id=41348204\">10&nbsp;comments</a>        </span>\n",
      "              </td></tr>\n",
      "      <tr class=\"spacer\" style=\"height:5px\"></tr>\n",
      "                <tr class='athing' id='41348000'>\n",
      "      <td align=\"right\" valign=\"top\" class=\"title\"><span class=\"rank\">8.</span></td>      <td valign=\"top\" class=\"votelinks\"><center><a id='up_41348000' href='vote?id=41348000&amp;how=up&amp;goto=news'><div class='votearrow' title='upvote'></div></a></center></td><td class=\"title\"><span class=\"titleline\"><a href=\"https://www.shamusyoung.com/twentysidedtale/?p=141\">Programming terrain from scratch using C++ and OpenGL by Shamus Young (2006)</a><span class=\"sitebit comhead\"> (<a href=\"from?site=shamusyoung.com\"><span class=\"sitestr\">shamusyoung.com</span></a>)</span></span></td></tr><tr><td colspan=\"2\"></td><td class=\"subtext\"><span class=\"subline\">\n",
      "          <span class=\"score\" id=\"score_41348000\">37 points</span> by <a href=\"user?id=pathless\" class=\"hnuser\">pathless</a> <span class=\"age\" title=\"2024-08-25T15:32:00\"><a href=\"item?id=41348000\">4 hours ago</a></span> <span id=\"unv_41348000\"></span> | <a href=\"hide?id=41348000&amp;goto=news\">hide</a> | <a href=\"item?id=41348000\">7&nbsp;comments</a>        </span>\n",
      "              </td></tr>\n",
      "      <tr class=\"spacer\" style=\"height:5px\"></tr>\n",
      "                <tr class='athing' id='41348338'>\n",
      "      <td align=\"right\" valign=\"top\" class=\"title\"><span class=\"rank\">9.</span></td>      <td valign=\"top\" class=\"votelinks\"><center><a id='up_41348338' href='vote?id=41348338&amp;how=up&amp;goto=news'><div class='votearrow' title='upvote'></div></a></center></td><td class=\"title\"><span class=\"titleline\"><a href=\"https://thomasw.dev/post/mac-floppy-emu/\">Emulating the Early Macintosh Floppy Drive</a><span class=\"sitebit comhead\"> (<a href=\"from?site=thomasw.dev\"><span class=\"sitestr\">thomasw.dev</span></a>)</span></span></td></tr><tr><td colspan=\"2\"></td><td class=\"subtext\"><span class=\"subline\">\n",
      "          <span class=\"score\" id=\"score_41348338\">35 points</span> by <a href=\"user?id=GloriousCow\" class=\"hnuser\">GloriousCow</a> <span class=\"age\" title=\"2024-08-25T16:04:21\"><a href=\"item?id=41348338\">3 hours ago</a></span> <span id=\"unv_41348338\"></span> | <a href=\"hide?id=41348338&amp;goto=news\">hide</a> | <a href=\"item?id=41348338\">12&nbsp;comments</a>        </span>\n",
      "              </td></tr>\n",
      "      <tr class=\"spacer\" style=\"height:5px\"></tr>\n",
      "                <tr class='athing' id='41348631'>\n",
      "      <td align=\"right\" valign=\"top\" class=\"title\"><span class=\"rank\">10.</span></td>      <td valign=\"top\" class=\"votelinks\"><center><a id='up_41348631' href='vote?id=41348631&amp;how=up&amp;goto=news'><div class='votearrow' title='upvote'></div></a></center></td><td class=\"title\"><span class=\"titleline\"><a href=\"https://github.com/buffdb/buffdb\">BuffDB is a Rust library to simplify multi-plexing on edge devices</a><span class=\"sitebit comhead\"> (<a href=\"from?site=github.com/buffdb\"><span class=\"sitestr\">github.com/buffdb</span></a>)</span></span></td></tr><tr><td colspan=\"2\"></td><td class=\"subtext\"><span class=\"subline\">\n",
      "          <span class=\"score\" id=\"score_41348631\">28 points</span> by <a href=\"user?id=opensourcemaxi\" class=\"hnuser\">opensourcemaxi</a> <span class=\"age\" title=\"2024-08-25T16:34:05\"><a href=\"item?id=41348631\">3 hours ago</a></span> <span id=\"unv_41348631\"></span> | <a href=\"hide?id=41348631&amp;goto=news\">hide</a> | <a href=\"item?id=41348631\">4&nbsp;comments</a>        </span>\n",
      "              </td></tr>\n",
      "      <tr class=\"spacer\" style=\"height:5px\"></tr>\n",
      "                <tr class='athing' id='41347852'>\n",
      "      <td align=\"right\" valign=\"top\" class=\"title\"><span class=\"rank\">11.</span></td>      <td valign=\"top\" class=\"votelinks\"><center><a id='up_41347852' href='vote?id=41347852&amp;how=up&amp;goto=news'><div class='votearrow' title='upvote'></div></a></center></td><td class=\"title\"><span class=\"titleline\"><a href=\"https://inconvergent.net/2023/datalog-to-svg/\">From Datalog to SVG</a><span class=\"sitebit comhead\"> (<a href=\"from?site=inconvergent.net\"><span class=\"sitestr\">inconvergent.net</span></a>)</span></span></td></tr><tr><td colspan=\"2\"></td><td class=\"subtext\"><span class=\"subline\">\n",
      "          <span class=\"score\" id=\"score_41347852\">45 points</span> by <a href=\"user?id=grzm\" class=\"hnuser\">grzm</a> <span class=\"age\" title=\"2024-08-25T15:12:58\"><a href=\"item?id=41347852\">4 hours ago</a></span> <span id=\"unv_41347852\"></span> | <a href=\"hide?id=41347852&amp;goto=news\">hide</a> | <a href=\"item?id=41347852\">1&nbsp;comment</a>        </span>\n",
      "              </td></tr>\n",
      "      <tr class=\"spacer\" style=\"height:5px\"></tr>\n",
      "                <tr class='athing' id='41337301'>\n",
      "      <td align=\"right\" valign=\"top\" class=\"title\"><span class=\"rank\">12.</span></td>      <td valign=\"top\" class=\"votelinks\"><center><a id='up_41337301' href='vote?id=41337301&amp;how=up&amp;goto=news'><div class='votearrow' title='upvote'></div></a></center></td><td class=\"title\"><span class=\"titleline\"><a href=\"https://moxie.org/2011/12/13/the-cryptographic-doom-principle.html\">The Cryptographic Doom Principle (2011)</a><span class=\"sitebit comhead\"> (<a href=\"from?site=moxie.org\"><span class=\"sitestr\">moxie.org</span></a>)</span></span></td></tr><tr><td colspan=\"2\"></td><td class=\"subtext\"><span class=\"subline\">\n",
      "          <span class=\"score\" id=\"score_41337301\">40 points</span> by <a href=\"user?id=Bluestein\" class=\"hnuser\">Bluestein</a> <span class=\"age\" title=\"2024-08-24T11:16:57\"><a href=\"item?id=41337301\">6 hours ago</a></span> <span id=\"unv_41337301\"></span> | <a href=\"hide?id=41337301&amp;goto=news\">hide</a> | <a href=\"item?id=41337301\">4&nbsp;comments</a>        </span>\n",
      "              </td></tr>\n",
      "      <tr class=\"spacer\" style=\"height:5px\"></tr>\n",
      "                <tr class='athing' id='41313861'>\n",
      "      <td align=\"right\" valign=\"top\" class=\"title\"><span class=\"rank\">13.</span></td>      <td valign=\"top\" class=\"votelinks\"><center><a id='up_41313861' href='vote?id=41313861&amp;how=up&amp;goto=news'><div class='votearrow' title='upvote'></div></a></center></td><td class=\"title\"><span class=\"titleline\"><a href=\"https://donsz.nl/blog/arenas/\">A Comparison of Arenas in Rust</a><span class=\"sitebit comhead\"> (<a href=\"from?site=donsz.nl\"><span class=\"sitestr\">donsz.nl</span></a>)</span></span></td></tr><tr><td colspan=\"2\"></td><td class=\"subtext\"><span class=\"subline\">\n",
      "          <span class=\"score\" id=\"score_41313861\">27 points</span> by <a href=\"user?id=PaulHoule\" class=\"hnuser\">PaulHoule</a> <span class=\"age\" title=\"2024-08-21T20:20:16\"><a href=\"item?id=41313861\">5 hours ago</a></span> <span id=\"unv_41313861\"></span> | <a href=\"hide?id=41313861&amp;goto=news\">hide</a> | <a href=\"item?id=41313861\">4&nbsp;comments</a>        </span>\n",
      "              </td></tr>\n",
      "      <tr class=\"spacer\" style=\"height:5px\"></tr>\n",
      "                <tr class='athing' id='41326169'>\n",
      "      <td align=\"right\" valign=\"top\" class=\"title\"><span class=\"rank\">14.</span></td>      <td valign=\"top\" class=\"votelinks\"><center><a id='up_41326169' href='vote?id=41326169&amp;how=up&amp;goto=news'><div class='votearrow' title='upvote'></div></a></center></td><td class=\"title\"><span class=\"titleline\"><a href=\"https://simonroses.com/2023/12/modern-wardriving/\">Modern Wardriving (2023)</a><span class=\"sitebit comhead\"> (<a href=\"from?site=simonroses.com\"><span class=\"sitestr\">simonroses.com</span></a>)</span></span></td></tr><tr><td colspan=\"2\"></td><td class=\"subtext\"><span class=\"subline\">\n",
      "          <span class=\"score\" id=\"score_41326169\">61 points</span> by <a href=\"user?id=zdw\" class=\"hnuser\">zdw</a> <span class=\"age\" title=\"2024-08-23T04:27:54\"><a href=\"item?id=41326169\">9 hours ago</a></span> <span id=\"unv_41326169\"></span> | <a href=\"hide?id=41326169&amp;goto=news\">hide</a> | <a href=\"item?id=41326169\">41&nbsp;comments</a>        </span>\n",
      "              </td></tr>\n",
      "      <tr class=\"spacer\" style=\"height:5px\"></tr>\n",
      "                <tr class='athing' id='41347909'>\n",
      "      <td align=\"right\" valign=\"top\" class=\"title\"><span class=\"rank\">15.</span></td>      <td valign=\"top\" class=\"votelinks\"><center><a id='up_41347909' href='vote?id=41347909&amp;how=up&amp;goto=news'><div class='votearrow' title='upvote'></div></a></center></td><td class=\"title\"><span class=\"titleline\"><a href=\"https://decripto.org/en/arrest-of-pavel-durov-charges-of-terrorism-fraud-and-child-pornography-he-did-not-cooperate-with-the-authorities-he-risks-20-years-in-prison/\">Arrest of Pavel Durov, Telegram CEO, charges of terrorism, fraud, child porn</a><span class=\"sitebit comhead\"> (<a href=\"from?site=decripto.org\"><span class=\"sitestr\">decripto.org</span></a>)</span></span></td></tr><tr><td colspan=\"2\"></td><td class=\"subtext\"><span class=\"subline\">\n",
      "          <span class=\"score\" id=\"score_41347909\">498 points</span> by <a href=\"user?id=toss1\" class=\"hnuser\">toss1</a> <span class=\"age\" title=\"2024-08-25T15:20:29\"><a href=\"item?id=41347909\">4 hours ago</a></span> <span id=\"unv_41347909\"></span> | <a href=\"hide?id=41347909&amp;goto=news\">hide</a> | <a href=\"item?id=41347909\">582&nbsp;comments</a>        </span>\n",
      "              </td></tr>\n",
      "      <tr class=\"spacer\" style=\"height:5px\"></tr>\n",
      "                <tr class='athing' id='41342017'>\n",
      "      <td align=\"right\" valign=\"top\" class=\"title\"><span class=\"rank\">16.</span></td>      <td valign=\"top\" class=\"votelinks\"><center><a id='up_41342017' href='vote?id=41342017&amp;how=up&amp;goto=news'><div class='votearrow' title='upvote'></div></a></center></td><td class=\"title\"><span class=\"titleline\"><a href=\"item?id=41342017\">Ask HN: What are you working on (August 2024)?</a></span></td></tr><tr><td colspan=\"2\"></td><td class=\"subtext\"><span class=\"subline\">\n",
      "          <span class=\"score\" id=\"score_41342017\">540 points</span> by <a href=\"user?id=david927\" class=\"hnuser\">david927</a> <span class=\"age\" title=\"2024-08-24T22:00:34\"><a href=\"item?id=41342017\">21 hours ago</a></span> <span id=\"unv_41342017\"></span> | <a href=\"hide?id=41342017&amp;goto=news\">hide</a> | <a href=\"item?id=41342017\">1157&nbsp;comments</a>        </span>\n",
      "              </td></tr>\n",
      "      <tr class=\"spacer\" style=\"height:5px\"></tr>\n",
      "                <tr class='athing' id='41350438'>\n",
      "      <td align=\"right\" valign=\"top\" class=\"title\"><span class=\"rank\">17.</span></td>      <td valign=\"top\" class=\"votelinks\"><center><a id='up_41350438' href='vote?id=41350438&amp;how=up&amp;goto=news'><div class='votearrow' title='upvote'></div></a></center></td><td class=\"title\"><span class=\"titleline\"><a href=\"https://twitter.com/telegram/status/1827787345367834772\">Telegram: We abide by EU laws, including the Digital Services Act</a><span class=\"sitebit comhead\"> (<a href=\"from?site=twitter.com/telegram\"><span class=\"sitestr\">twitter.com/telegram</span></a>)</span></span></td></tr><tr><td colspan=\"2\"></td><td class=\"subtext\"><span class=\"subline\">\n",
      "          <span class=\"score\" id=\"score_41350438\">10 points</span> by <a href=\"user?id=bpierre\" class=\"hnuser\">bpierre</a> <span class=\"age\" title=\"2024-08-25T19:26:02\"><a href=\"item?id=41350438\">31 minutes ago</a></span> <span id=\"unv_41350438\"></span> | <a href=\"hide?id=41350438&amp;goto=news\">hide</a> | <a href=\"item?id=41350438\">2&nbsp;comments</a>        </span>\n",
      "              </td></tr>\n",
      "      <tr class=\"spacer\" style=\"height:5px\"></tr>\n",
      "                <tr class='athing' id='41348421'>\n",
      "      <td align=\"right\" valign=\"top\" class=\"title\"><span class=\"rank\">18.</span></td>      <td valign=\"top\" class=\"votelinks\"><center><a id='up_41348421' href='vote?id=41348421&amp;how=up&amp;goto=news'><div class='votearrow' title='upvote'></div></a></center></td><td class=\"title\"><span class=\"titleline\"><a href=\"https://www.npr.org/sections/shots-health-news/2024/08/24/nx-s1-5028551/insurance-therapy-therapist-mental-health-coverage\">Finding a therapist who takes your insurance can be nearly impossible</a><span class=\"sitebit comhead\"> (<a href=\"from?site=npr.org\"><span class=\"sitestr\">npr.org</span></a>)</span></span></td></tr><tr><td colspan=\"2\"></td><td class=\"subtext\"><span class=\"subline\">\n",
      "          <span class=\"score\" id=\"score_41348421\">87 points</span> by <a href=\"user?id=rntn\" class=\"hnuser\">rntn</a> <span class=\"age\" title=\"2024-08-25T16:12:13\"><a href=\"item?id=41348421\">3 hours ago</a></span> <span id=\"unv_41348421\"></span> | <a href=\"hide?id=41348421&amp;goto=news\">hide</a> | <a href=\"item?id=41348421\">79&nbsp;comments</a>        </span>\n",
      "              </td></tr>\n",
      "      <tr class=\"spacer\" style=\"height:5px\"></tr>\n",
      "                <tr class='athing' id='41342637'>\n",
      "      <td align=\"right\" valign=\"top\" class=\"title\"><span class=\"rank\">19.</span></td>      <td valign=\"top\" class=\"votelinks\"><center><a id='up_41342637' href='vote?id=41342637&amp;how=up&amp;goto=news'><div class='votearrow' title='upvote'></div></a></center></td><td class=\"title\"><span class=\"titleline\"><a href=\"https://github.com/JohnLaTwC/Shared/blob/master/Defenders%20think%20in%20lists.%20Attackers%20think%20in%20graphs.%20As%20long%20as%20this%20is%20true%2C%20attackers%20win.md\">Defenders think in lists, attackers think in graphs (2015)</a><span class=\"sitebit comhead\"> (<a href=\"from?site=github.com/johnlatwc\"><span class=\"sitestr\">github.com/johnlatwc</span></a>)</span></span></td></tr><tr><td colspan=\"2\"></td><td class=\"subtext\"><span class=\"subline\">\n",
      "          <span class=\"score\" id=\"score_41342637\">348 points</span> by <a href=\"user?id=akyuu\" class=\"hnuser\">akyuu</a> <span class=\"age\" title=\"2024-08-24T23:12:18\"><a href=\"item?id=41342637\">20 hours ago</a></span> <span id=\"unv_41342637\"></span> | <a href=\"hide?id=41342637&amp;goto=news\">hide</a> | <a href=\"item?id=41342637\">152&nbsp;comments</a>        </span>\n",
      "              </td></tr>\n",
      "      <tr class=\"spacer\" style=\"height:5px\"></tr>\n",
      "                <tr class='athing' id='41337156'>\n",
      "      <td align=\"right\" valign=\"top\" class=\"title\"><span class=\"rank\">20.</span></td>      <td valign=\"top\" class=\"votelinks\"><center><a id='up_41337156' href='vote?id=41337156&amp;how=up&amp;goto=news'><div class='votearrow' title='upvote'></div></a></center></td><td class=\"title\"><span class=\"titleline\"><a href=\"item?id=41337156\">Why don&#x27;t we have personalized search engines?</a></span></td></tr><tr><td colspan=\"2\"></td><td class=\"subtext\"><span class=\"subline\">\n",
      "          <span class=\"score\" id=\"score_41337156\">15 points</span> by <a href=\"user?id=enether\" class=\"hnuser\">enether</a> <span class=\"age\" title=\"2024-08-24T10:44:30\"><a href=\"item?id=41337156\">3 hours ago</a></span> <span id=\"unv_41337156\"></span> | <a href=\"hide?id=41337156&amp;goto=news\">hide</a> | <a href=\"item?id=41337156\">14&nbsp;comments</a>        </span>\n",
      "              </td></tr>\n",
      "      <tr class=\"spacer\" style=\"height:5px\"></tr>\n",
      "                <tr class='athing' id='41338354'>\n",
      "      <td align=\"right\" valign=\"top\" class=\"title\"><span class=\"rank\">21.</span></td>      <td valign=\"top\" class=\"votelinks\"><center><a id='up_41338354' href='vote?id=41338354&amp;how=up&amp;goto=news'><div class='votearrow' title='upvote'></div></a></center></td><td class=\"title\"><span class=\"titleline\"><a href=\"https://lelouch.dev/blog/you-are-probably-not-dumb/\">You are not dumb, you just lack the prerequisites</a><span class=\"sitebit comhead\"> (<a href=\"from?site=lelouch.dev\"><span class=\"sitestr\">lelouch.dev</span></a>)</span></span></td></tr><tr><td colspan=\"2\"></td><td class=\"subtext\"><span class=\"subline\">\n",
      "          <span class=\"score\" id=\"score_41338354\">625 points</span> by <a href=\"user?id=JustinSkycak\" class=\"hnuser\">JustinSkycak</a> <span class=\"age\" title=\"2024-08-24T13:57:56\"><a href=\"item?id=41338354\">1 day ago</a></span> <span id=\"unv_41338354\"></span> | <a href=\"hide?id=41338354&amp;goto=news\">hide</a> | <a href=\"item?id=41338354\">350&nbsp;comments</a>        </span>\n",
      "              </td></tr>\n",
      "      <tr class=\"spacer\" style=\"height:5px\"></tr>\n",
      "                <tr class='athing' id='41347868'>\n",
      "      <td align=\"right\" valign=\"top\" class=\"title\"><span class=\"rank\">22.</span></td>      <td valign=\"top\" class=\"votelinks\"><center><a id='up_41347868' href='vote?id=41347868&amp;how=up&amp;goto=news'><div class='votearrow' title='upvote'></div></a></center></td><td class=\"title\"><span class=\"titleline\"><a href=\"https://yle.fi/a/74-20062381\">Study: Air purifier use at daycare centres cut kids&#x27; sick days by a third (2023)</a><span class=\"sitebit comhead\"> (<a href=\"from?site=yle.fi\"><span class=\"sitestr\">yle.fi</span></a>)</span></span></td></tr><tr><td colspan=\"2\"></td><td class=\"subtext\"><span class=\"subline\">\n",
      "          <span class=\"score\" id=\"score_41347868\">264 points</span> by <a href=\"user?id=mji\" class=\"hnuser\">mji</a> <span class=\"age\" title=\"2024-08-25T15:15:07\"><a href=\"item?id=41347868\">4 hours ago</a></span> <span id=\"unv_41347868\"></span> | <a href=\"hide?id=41347868&amp;goto=news\">hide</a> | <a href=\"item?id=41347868\">177&nbsp;comments</a>        </span>\n",
      "              </td></tr>\n",
      "      <tr class=\"spacer\" style=\"height:5px\"></tr>\n",
      "                <tr class='athing' id='41349443'>\n",
      "      <td align=\"right\" valign=\"top\" class=\"title\"><span class=\"rank\">23.</span></td>      <td valign=\"top\" class=\"votelinks\"><center><a id='up_41349443' href='vote?id=41349443&amp;how=up&amp;goto=news'><div class='votearrow' title='upvote'></div></a></center></td><td class=\"title\"><span class=\"titleline\"><a href=\"https://kennethnym.com/blog/why-i-still-wont-use-llm/\">The art of programming and why I won&#x27;t use LLM</a><span class=\"sitebit comhead\"> (<a href=\"from?site=kennethnym.com\"><span class=\"sitestr\">kennethnym.com</span></a>)</span></span></td></tr><tr><td colspan=\"2\"></td><td class=\"subtext\"><span class=\"subline\">\n",
      "          <span class=\"score\" id=\"score_41349443\">94 points</span> by <a href=\"user?id=theapache64\" class=\"hnuser\">theapache64</a> <span class=\"age\" title=\"2024-08-25T17:47:21\"><a href=\"item?id=41349443\">2 hours ago</a></span> <span id=\"unv_41349443\"></span> | <a href=\"hide?id=41349443&amp;goto=news\">hide</a> | <a href=\"item?id=41349443\">128&nbsp;comments</a>        </span>\n",
      "              </td></tr>\n",
      "      <tr class=\"spacer\" style=\"height:5px\"></tr>\n",
      "                <tr class='athing' id='41347290'>\n",
      "      <td align=\"right\" valign=\"top\" class=\"title\"><span class=\"rank\">24.</span></td>      <td valign=\"top\" class=\"votelinks\"><center><a id='up_41347290' href='vote?id=41347290&amp;how=up&amp;goto=news'><div class='votearrow' title='upvote'></div></a></center></td><td class=\"title\"><span class=\"titleline\"><a href=\"https://pillser.com/engineering/2024-08-25-speeding-up-your-website-using-cloudflare-cache\">Speeding Up Your Website Using Cloudflare Cache</a><span class=\"sitebit comhead\"> (<a href=\"from?site=pillser.com\"><span class=\"sitestr\">pillser.com</span></a>)</span></span></td></tr><tr><td colspan=\"2\"></td><td class=\"subtext\"><span class=\"subline\">\n",
      "          <span class=\"score\" id=\"score_41347290\">19 points</span> by <a href=\"user?id=lilouartz\" class=\"hnuser\">lilouartz</a> <span class=\"age\" title=\"2024-08-25T13:48:08\"><a href=\"item?id=41347290\">6 hours ago</a></span> <span id=\"unv_41347290\"></span> | <a href=\"hide?id=41347290&amp;goto=news\">hide</a> | <a href=\"item?id=41347290\">9&nbsp;comments</a>        </span>\n",
      "              </td></tr>\n",
      "      <tr class=\"spacer\" style=\"height:5px\"></tr>\n",
      "                <tr class='athing' id='41348412'>\n",
      "      <td align=\"right\" valign=\"top\" class=\"title\"><span class=\"rank\">25.</span></td>      <td valign=\"top\" class=\"votelinks\"><center><a id='up_41348412' href='vote?id=41348412&amp;how=up&amp;goto=news'><div class='votearrow' title='upvote'></div></a></center></td><td class=\"title\"><span class=\"titleline\"><a href=\"https://www.theverge.com/2024/8/12/24218754/apple-idos-3-app-store-pc-emulator-rule-change\">Apple Approves iDOS Emulator</a><span class=\"sitebit comhead\"> (<a href=\"from?site=theverge.com\"><span class=\"sitestr\">theverge.com</span></a>)</span></span></td></tr><tr><td colspan=\"2\"></td><td class=\"subtext\"><span class=\"subline\">\n",
      "          <span class=\"score\" id=\"score_41348412\">35 points</span> by <a href=\"user?id=gattilorenz\" class=\"hnuser\">gattilorenz</a> <span class=\"age\" title=\"2024-08-25T16:11:32\"><a href=\"item?id=41348412\">3 hours ago</a></span> <span id=\"unv_41348412\"></span> | <a href=\"hide?id=41348412&amp;goto=news\">hide</a> | <a href=\"item?id=41348412\">10&nbsp;comments</a>        </span>\n",
      "              </td></tr>\n",
      "      <tr class=\"spacer\" style=\"height:5px\"></tr>\n",
      "                <tr class='athing' id='41335770'>\n",
      "      <td align=\"right\" valign=\"top\" class=\"title\"><span class=\"rank\">26.</span></td>      <td valign=\"top\" class=\"votelinks\"><center><a id='up_41335770' href='vote?id=41335770&amp;how=up&amp;goto=news'><div class='votearrow' title='upvote'></div></a></center></td><td class=\"title\"><span class=\"titleline\"><a href=\"https://www.thenation.com/article/culture/guy-davenport-geography-imagination/\" rel=\"nofollow\">Guy Davenport–The Last High Modernist</a><span class=\"sitebit comhead\"> (<a href=\"from?site=thenation.com\"><span class=\"sitestr\">thenation.com</span></a>)</span></span></td></tr><tr><td colspan=\"2\"></td><td class=\"subtext\"><span class=\"subline\">\n",
      "          <span class=\"score\" id=\"score_41335770\">5 points</span> by <a href=\"user?id=Caiero\" class=\"hnuser\">Caiero</a> <span class=\"age\" title=\"2024-08-24T04:58:04\"><a href=\"item?id=41335770\">2 hours ago</a></span> <span id=\"unv_41335770\"></span> | <a href=\"hide?id=41335770&amp;goto=news\">hide</a> | <a href=\"item?id=41335770\">discuss</a>        </span>\n",
      "              </td></tr>\n",
      "      <tr class=\"spacer\" style=\"height:5px\"></tr>\n",
      "                <tr class='athing' id='41348096'>\n",
      "      <td align=\"right\" valign=\"top\" class=\"title\"><span class=\"rank\">27.</span></td>      <td valign=\"top\" class=\"votelinks\"><center><a id='up_41348096' href='vote?id=41348096&amp;how=up&amp;goto=news'><div class='votearrow' title='upvote'></div></a></center></td><td class=\"title\"><span class=\"titleline\"><a href=\"https://www.bloomberg.com/news/newsletters/2024-08-25/apple-plans-tabletop-robot-while-exploring-mobile-bots-and-humanoid-machines-m09kawex\">Apple explores robotics in search of life beyond the iPhone</a><span class=\"sitebit comhead\"> (<a href=\"from?site=bloomberg.com\"><span class=\"sitestr\">bloomberg.com</span></a>)</span></span></td></tr><tr><td colspan=\"2\"></td><td class=\"subtext\"><span class=\"subline\">\n",
      "          <span class=\"score\" id=\"score_41348096\">37 points</span> by <a href=\"user?id=mfiguiere\" class=\"hnuser\">mfiguiere</a> <span class=\"age\" title=\"2024-08-25T15:41:10\"><a href=\"item?id=41348096\">4 hours ago</a></span> <span id=\"unv_41348096\"></span> | <a href=\"hide?id=41348096&amp;goto=news\">hide</a> | <a href=\"item?id=41348096\">63&nbsp;comments</a>        </span>\n",
      "              </td></tr>\n",
      "      <tr class=\"spacer\" style=\"height:5px\"></tr>\n",
      "                <tr class='athing' id='41341786'>\n",
      "      <td align=\"right\" valign=\"top\" class=\"title\"><span class=\"rank\">28.</span></td>      <td valign=\"top\" class=\"votelinks\"><center><a id='up_41341786' href='vote?id=41341786&amp;how=up&amp;goto=news'><div class='votearrow' title='upvote'></div></a></center></td><td class=\"title\"><span class=\"titleline\"><a href=\"https://chipsandcheese.com/2024/08/24/amds-radeon-890m-strix-points-bigger-igpu/\">AMD&#x27;s Radeon 890M: Strix Point&#x27;s Bigger iGPU</a><span class=\"sitebit comhead\"> (<a href=\"from?site=chipsandcheese.com\"><span class=\"sitestr\">chipsandcheese.com</span></a>)</span></span></td></tr><tr><td colspan=\"2\"></td><td class=\"subtext\"><span class=\"subline\">\n",
      "          <span class=\"score\" id=\"score_41341786\">143 points</span> by <a href=\"user?id=luyu_wu\" class=\"hnuser\">luyu_wu</a> <span class=\"age\" title=\"2024-08-24T21:39:07\"><a href=\"item?id=41341786\">22 hours ago</a></span> <span id=\"unv_41341786\"></span> | <a href=\"hide?id=41341786&amp;goto=news\">hide</a> | <a href=\"item?id=41341786\">52&nbsp;comments</a>        </span>\n",
      "              </td></tr>\n",
      "      <tr class=\"spacer\" style=\"height:5px\"></tr>\n",
      "                <tr class='athing' id='41336762'>\n",
      "      <td align=\"right\" valign=\"top\" class=\"title\"><span class=\"rank\">29.</span></td>      <td valign=\"top\" class=\"votelinks\"><center><a id='up_41336762' href='vote?id=41336762&amp;how=up&amp;goto=news'><div class='votearrow' title='upvote'></div></a></center></td><td class=\"title\"><span class=\"titleline\"><a href=\"https://amodernist.com/texts/fun-c.html\">Consistently Making Wrong Decisions Whilst Writing Recreational C</a><span class=\"sitebit comhead\"> (<a href=\"from?site=amodernist.com\"><span class=\"sitestr\">amodernist.com</span></a>)</span></span></td></tr><tr><td colspan=\"2\"></td><td class=\"subtext\"><span class=\"subline\">\n",
      "          <span class=\"score\" id=\"score_41336762\">190 points</span> by <a href=\"user?id=luu\" class=\"hnuser\">luu</a> <span class=\"age\" title=\"2024-08-24T09:14:34\"><a href=\"item?id=41336762\">23 hours ago</a></span> <span id=\"unv_41336762\"></span> | <a href=\"hide?id=41336762&amp;goto=news\">hide</a> | <a href=\"item?id=41336762\">27&nbsp;comments</a>        </span>\n",
      "              </td></tr>\n",
      "      <tr class=\"spacer\" style=\"height:5px\"></tr>\n",
      "                <tr class='athing' id='41344176'>\n",
      "      <td align=\"right\" valign=\"top\" class=\"title\"><span class=\"rank\">30.</span></td>      <td valign=\"top\" class=\"votelinks\"><center><a id='up_41344176' href='vote?id=41344176&amp;how=up&amp;goto=news'><div class='votearrow' title='upvote'></div></a></center></td><td class=\"title\"><span class=\"titleline\"><a href=\"https://milan.cvitkovic.net/writing/neurotechnology_numbers_worth_knowing/\">Neurotechnology numbers worth knowing (2022)</a><span class=\"sitebit comhead\"> (<a href=\"from?site=cvitkovic.net\"><span class=\"sitestr\">cvitkovic.net</span></a>)</span></span></td></tr><tr><td colspan=\"2\"></td><td class=\"subtext\"><span class=\"subline\">\n",
      "          <span class=\"score\" id=\"score_41344176\">136 points</span> by <a href=\"user?id=Jun8\" class=\"hnuser\">Jun8</a> <span class=\"age\" title=\"2024-08-25T03:40:30\"><a href=\"item?id=41344176\">16 hours ago</a></span> <span id=\"unv_41344176\"></span> | <a href=\"hide?id=41344176&amp;goto=news\">hide</a> | <a href=\"item?id=41344176\">23&nbsp;comments</a>        </span>\n",
      "              </td></tr>\n",
      "      <tr class=\"spacer\" style=\"height:5px\"></tr>\n",
      "            <tr class=\"morespace\" style=\"height:10px\"></tr><tr><td colspan=\"2\"></td>\n",
      "      <td class='title'><a href='?p=2' class='morelink' rel='next'>More</a></td>    </tr>\n",
      "  </table>\n",
      "</td></tr>\n",
      "<tr><td><img src=\"s.gif\" height=\"10\" width=\"0\"><table width=\"100%\" cellspacing=\"0\" cellpadding=\"1\"><tr><td bgcolor=\"#ff6600\"></td></tr></table><br>\n",
      "<center><a href=\"https://www.ycombinator.com/apply/\">Consider applying for YC's first-ever Fall batch! Applications are open till Aug 27.</a></center><br>\n",
      "<center><span class=\"yclinks\"><a href=\"newsguidelines.html\">Guidelines</a> | <a href=\"newsfaq.html\">FAQ</a> | <a href=\"lists\">Lists</a> | <a href=\"https://github.com/HackerNews/API\">API</a> | <a href=\"security.html\">Security</a> | <a href=\"https://www.ycombinator.com/legal/\">Legal</a> | <a href=\"https://www.ycombinator.com/apply/\">Apply to YC</a> | <a href=\"mailto:hn@ycombinator.com\">Contact</a></span><br><br>\n",
      "<form method=\"get\" action=\"//hn.algolia.com/\">Search: <input type=\"text\" name=\"q\" size=\"17\" autocorrect=\"off\" spellcheck=\"false\" autocapitalize=\"off\" autocomplete=\"off\"></form></center></td></tr>      </table></center></body>\n",
      "      <script type='text/javascript' src='hn.js?mx3HVgoxPRU3ruORG7vE'></script>\n",
      "  </html>\n",
      "\n"
     ]
    }
   ],
   "source": [
    "response = requests.get(\"https://news.ycombinator.com/\")\n",
    "print(response.text)"
   ]
  },
  {
   "cell_type": "markdown",
   "metadata": {},
   "source": [
    "웹페이지 파싱"
   ]
  },
  {
   "cell_type": "code",
   "execution_count": 13,
   "metadata": {},
   "outputs": [],
   "source": [
    "yc_web_page = response.text"
   ]
  },
  {
   "cell_type": "code",
   "execution_count": 14,
   "metadata": {},
   "outputs": [
    {
     "name": "stdout",
     "output_type": "stream",
     "text": [
      "<title>Hacker News</title>\n"
     ]
    }
   ],
   "source": [
    "soup = BeautifulSoup(yc_web_page, \"lxml\")\n",
    "print(soup.title)"
   ]
  },
  {
   "cell_type": "markdown",
   "metadata": {},
   "source": [
    "Article의 제목과 링크 가져오기"
   ]
  },
  {
   "cell_type": "code",
   "execution_count": 80,
   "metadata": {},
   "outputs": [
    {
     "name": "stdout",
     "output_type": "stream",
     "text": [
      "[<span class=\"titleline\"><a href=\"https://blog.cryptographyengineering.com/2024/08/25/telegram-is-not-really-an-encrypted-messaging-app/\">Is Telegram really an encrypted messaging app?</a><span class=\"sitebit comhead\"> (<a href=\"from?site=cryptographyengineering.com\"><span class=\"sitestr\">cryptographyengineering.com</span></a>)</span></span>,\n",
      " <span class=\"titleline\"><a href=\"https://dl.acm.org/doi/full/10.1145/3613904.3642919\">GenAI diminishes creativity instead of inspiration</a><span class=\"sitebit comhead\"> (<a href=\"from?site=acm.org\"><span class=\"sitestr\">acm.org</span></a>)</span></span>,\n",
      " <span class=\"titleline\"><a href=\"https://www.strandbeest.com/\">Strandbeest</a><span class=\"sitebit comhead\"> (<a href=\"from?site=strandbeest.com\"><span class=\"sitestr\">strandbeest.com</span></a>)</span></span>,\n",
      " <span class=\"titleline\"><a href=\"https://ntietz.com/blog/til-uses-for-the-different-uuid-versions/\">TIL: Versions of UUID and when to use them</a><span class=\"sitebit comhead\"> (<a href=\"from?site=ntietz.com\"><span class=\"sitestr\">ntietz.com</span></a>)</span></span>,\n",
      " <span class=\"titleline\"><a href=\"https://horovits.medium.com/lidl-is-taking-on-aws-the-age-of-eurocloud-b237258e3311\">Lidl's Cloud Gambit: Europe's Shift to Sovereign Computing</a><span class=\"sitebit comhead\"> (<a href=\"from?site=horovits.medium.com\"><span class=\"sitestr\">horovits.medium.com</span></a>)</span></span>,\n",
      " <span class=\"titleline\"><a href=\"https://theconversation.com/los-angeles-is-in-a-4-year-sprint-to-deliver-a-car-free-2028-olympics-236925\">Los Angeles is in a 4-year sprint to deliver a car-free 2028 Olympics</a><span class=\"sitebit comhead\"> (<a href=\"from?site=theconversation.com\"><span class=\"sitestr\">theconversation.com</span></a>)</span></span>,\n",
      " <span class=\"titleline\"><a href=\"https://github.com/flxzt/rnote\">Rnote – Sketch and take handwritten notes</a><span class=\"sitebit comhead\"> (<a href=\"from?site=github.com/flxzt\"><span class=\"sitestr\">github.com/flxzt</span></a>)</span></span>,\n",
      " <span class=\"titleline\"><a href=\"https://www.shamusyoung.com/twentysidedtale/?p=141\">Programming terrain from scratch using C++ and OpenGL by Shamus Young (2006)</a><span class=\"sitebit comhead\"> (<a href=\"from?site=shamusyoung.com\"><span class=\"sitestr\">shamusyoung.com</span></a>)</span></span>,\n",
      " <span class=\"titleline\"><a href=\"https://thomasw.dev/post/mac-floppy-emu/\">Emulating the Early Macintosh Floppy Drive</a><span class=\"sitebit comhead\"> (<a href=\"from?site=thomasw.dev\"><span class=\"sitestr\">thomasw.dev</span></a>)</span></span>,\n",
      " <span class=\"titleline\"><a href=\"https://github.com/buffdb/buffdb\">BuffDB is a Rust library to simplify multi-plexing on edge devices</a><span class=\"sitebit comhead\"> (<a href=\"from?site=github.com/buffdb\"><span class=\"sitestr\">github.com/buffdb</span></a>)</span></span>,\n",
      " <span class=\"titleline\"><a href=\"https://inconvergent.net/2023/datalog-to-svg/\">From Datalog to SVG</a><span class=\"sitebit comhead\"> (<a href=\"from?site=inconvergent.net\"><span class=\"sitestr\">inconvergent.net</span></a>)</span></span>,\n",
      " <span class=\"titleline\"><a href=\"https://moxie.org/2011/12/13/the-cryptographic-doom-principle.html\">The Cryptographic Doom Principle (2011)</a><span class=\"sitebit comhead\"> (<a href=\"from?site=moxie.org\"><span class=\"sitestr\">moxie.org</span></a>)</span></span>,\n",
      " <span class=\"titleline\"><a href=\"https://donsz.nl/blog/arenas/\">A Comparison of Arenas in Rust</a><span class=\"sitebit comhead\"> (<a href=\"from?site=donsz.nl\"><span class=\"sitestr\">donsz.nl</span></a>)</span></span>,\n",
      " <span class=\"titleline\"><a href=\"https://simonroses.com/2023/12/modern-wardriving/\">Modern Wardriving (2023)</a><span class=\"sitebit comhead\"> (<a href=\"from?site=simonroses.com\"><span class=\"sitestr\">simonroses.com</span></a>)</span></span>,\n",
      " <span class=\"titleline\"><a href=\"https://decripto.org/en/arrest-of-pavel-durov-charges-of-terrorism-fraud-and-child-pornography-he-did-not-cooperate-with-the-authorities-he-risks-20-years-in-prison/\">Arrest of Pavel Durov, Telegram CEO, charges of terrorism, fraud, child porn</a><span class=\"sitebit comhead\"> (<a href=\"from?site=decripto.org\"><span class=\"sitestr\">decripto.org</span></a>)</span></span>,\n",
      " <span class=\"titleline\"><a href=\"item?id=41342017\">Ask HN: What are you working on (August 2024)?</a></span>,\n",
      " <span class=\"titleline\"><a href=\"https://twitter.com/telegram/status/1827787345367834772\">Telegram: We abide by EU laws, including the Digital Services Act</a><span class=\"sitebit comhead\"> (<a href=\"from?site=twitter.com/telegram\"><span class=\"sitestr\">twitter.com/telegram</span></a>)</span></span>,\n",
      " <span class=\"titleline\"><a href=\"https://www.npr.org/sections/shots-health-news/2024/08/24/nx-s1-5028551/insurance-therapy-therapist-mental-health-coverage\">Finding a therapist who takes your insurance can be nearly impossible</a><span class=\"sitebit comhead\"> (<a href=\"from?site=npr.org\"><span class=\"sitestr\">npr.org</span></a>)</span></span>,\n",
      " <span class=\"titleline\"><a href=\"https://github.com/JohnLaTwC/Shared/blob/master/Defenders%20think%20in%20lists.%20Attackers%20think%20in%20graphs.%20As%20long%20as%20this%20is%20true%2C%20attackers%20win.md\">Defenders think in lists, attackers think in graphs (2015)</a><span class=\"sitebit comhead\"> (<a href=\"from?site=github.com/johnlatwc\"><span class=\"sitestr\">github.com/johnlatwc</span></a>)</span></span>,\n",
      " <span class=\"titleline\"><a href=\"item?id=41337156\">Why don't we have personalized search engines?</a></span>,\n",
      " <span class=\"titleline\"><a href=\"https://lelouch.dev/blog/you-are-probably-not-dumb/\">You are not dumb, you just lack the prerequisites</a><span class=\"sitebit comhead\"> (<a href=\"from?site=lelouch.dev\"><span class=\"sitestr\">lelouch.dev</span></a>)</span></span>,\n",
      " <span class=\"titleline\"><a href=\"https://yle.fi/a/74-20062381\">Study: Air purifier use at daycare centres cut kids' sick days by a third (2023)</a><span class=\"sitebit comhead\"> (<a href=\"from?site=yle.fi\"><span class=\"sitestr\">yle.fi</span></a>)</span></span>,\n",
      " <span class=\"titleline\"><a href=\"https://kennethnym.com/blog/why-i-still-wont-use-llm/\">The art of programming and why I won't use LLM</a><span class=\"sitebit comhead\"> (<a href=\"from?site=kennethnym.com\"><span class=\"sitestr\">kennethnym.com</span></a>)</span></span>,\n",
      " <span class=\"titleline\"><a href=\"https://pillser.com/engineering/2024-08-25-speeding-up-your-website-using-cloudflare-cache\">Speeding Up Your Website Using Cloudflare Cache</a><span class=\"sitebit comhead\"> (<a href=\"from?site=pillser.com\"><span class=\"sitestr\">pillser.com</span></a>)</span></span>,\n",
      " <span class=\"titleline\"><a href=\"https://www.theverge.com/2024/8/12/24218754/apple-idos-3-app-store-pc-emulator-rule-change\">Apple Approves iDOS Emulator</a><span class=\"sitebit comhead\"> (<a href=\"from?site=theverge.com\"><span class=\"sitestr\">theverge.com</span></a>)</span></span>,\n",
      " <span class=\"titleline\"><a href=\"https://www.thenation.com/article/culture/guy-davenport-geography-imagination/\" rel=\"nofollow\">Guy Davenport–The Last High Modernist</a><span class=\"sitebit comhead\"> (<a href=\"from?site=thenation.com\"><span class=\"sitestr\">thenation.com</span></a>)</span></span>,\n",
      " <span class=\"titleline\"><a href=\"https://www.bloomberg.com/news/newsletters/2024-08-25/apple-plans-tabletop-robot-while-exploring-mobile-bots-and-humanoid-machines-m09kawex\">Apple explores robotics in search of life beyond the iPhone</a><span class=\"sitebit comhead\"> (<a href=\"from?site=bloomberg.com\"><span class=\"sitestr\">bloomberg.com</span></a>)</span></span>,\n",
      " <span class=\"titleline\"><a href=\"https://chipsandcheese.com/2024/08/24/amds-radeon-890m-strix-points-bigger-igpu/\">AMD's Radeon 890M: Strix Point's Bigger iGPU</a><span class=\"sitebit comhead\"> (<a href=\"from?site=chipsandcheese.com\"><span class=\"sitestr\">chipsandcheese.com</span></a>)</span></span>,\n",
      " <span class=\"titleline\"><a href=\"https://amodernist.com/texts/fun-c.html\">Consistently Making Wrong Decisions Whilst Writing Recreational C</a><span class=\"sitebit comhead\"> (<a href=\"from?site=amodernist.com\"><span class=\"sitestr\">amodernist.com</span></a>)</span></span>,\n",
      " <span class=\"titleline\"><a href=\"https://milan.cvitkovic.net/writing/neurotechnology_numbers_worth_knowing/\">Neurotechnology numbers worth knowing (2022)</a><span class=\"sitebit comhead\"> (<a href=\"from?site=cvitkovic.net\"><span class=\"sitestr\">cvitkovic.net</span></a>)</span></span>]\n"
     ]
    }
   ],
   "source": [
    "#article_link = soup.find_all(\"span\", {\"class\":\"titleline\"})\n",
    "articles = soup.find_all(name=\"span\", class_=\"titleline\")\n",
    "pprint.pprint(articles)"
   ]
  },
  {
   "cell_type": "code",
   "execution_count": 81,
   "metadata": {},
   "outputs": [
    {
     "name": "stdout",
     "output_type": "stream",
     "text": [
      "30\n"
     ]
    }
   ],
   "source": [
    "print(len(articles))"
   ]
  },
  {
   "cell_type": "code",
   "execution_count": 82,
   "metadata": {},
   "outputs": [
    {
     "name": "stdout",
     "output_type": "stream",
     "text": [
      "[<a href=\"https://blog.cryptographyengineering.com/2024/08/25/telegram-is-not-really-an-encrypted-messaging-app/\">Is Telegram really an encrypted messaging app?</a>, <a href=\"https://dl.acm.org/doi/full/10.1145/3613904.3642919\">GenAI diminishes creativity instead of inspiration</a>, <a href=\"https://www.strandbeest.com/\">Strandbeest</a>, <a href=\"https://ntietz.com/blog/til-uses-for-the-different-uuid-versions/\">TIL: Versions of UUID and when to use them</a>, <a href=\"https://horovits.medium.com/lidl-is-taking-on-aws-the-age-of-eurocloud-b237258e3311\">Lidl's Cloud Gambit: Europe's Shift to Sovereign Computing</a>, <a href=\"https://theconversation.com/los-angeles-is-in-a-4-year-sprint-to-deliver-a-car-free-2028-olympics-236925\">Los Angeles is in a 4-year sprint to deliver a car-free 2028 Olympics</a>, <a href=\"https://github.com/flxzt/rnote\">Rnote – Sketch and take handwritten notes</a>, <a href=\"https://www.shamusyoung.com/twentysidedtale/?p=141\">Programming terrain from scratch using C++ and OpenGL by Shamus Young (2006)</a>, <a href=\"https://thomasw.dev/post/mac-floppy-emu/\">Emulating the Early Macintosh Floppy Drive</a>, <a href=\"https://github.com/buffdb/buffdb\">BuffDB is a Rust library to simplify multi-plexing on edge devices</a>, <a href=\"https://inconvergent.net/2023/datalog-to-svg/\">From Datalog to SVG</a>, <a href=\"https://moxie.org/2011/12/13/the-cryptographic-doom-principle.html\">The Cryptographic Doom Principle (2011)</a>, <a href=\"https://donsz.nl/blog/arenas/\">A Comparison of Arenas in Rust</a>, <a href=\"https://simonroses.com/2023/12/modern-wardriving/\">Modern Wardriving (2023)</a>, <a href=\"https://decripto.org/en/arrest-of-pavel-durov-charges-of-terrorism-fraud-and-child-pornography-he-did-not-cooperate-with-the-authorities-he-risks-20-years-in-prison/\">Arrest of Pavel Durov, Telegram CEO, charges of terrorism, fraud, child porn</a>, <a href=\"item?id=41342017\">Ask HN: What are you working on (August 2024)?</a>, <a href=\"https://twitter.com/telegram/status/1827787345367834772\">Telegram: We abide by EU laws, including the Digital Services Act</a>, <a href=\"https://www.npr.org/sections/shots-health-news/2024/08/24/nx-s1-5028551/insurance-therapy-therapist-mental-health-coverage\">Finding a therapist who takes your insurance can be nearly impossible</a>, <a href=\"https://github.com/JohnLaTwC/Shared/blob/master/Defenders%20think%20in%20lists.%20Attackers%20think%20in%20graphs.%20As%20long%20as%20this%20is%20true%2C%20attackers%20win.md\">Defenders think in lists, attackers think in graphs (2015)</a>, <a href=\"item?id=41337156\">Why don't we have personalized search engines?</a>, <a href=\"https://lelouch.dev/blog/you-are-probably-not-dumb/\">You are not dumb, you just lack the prerequisites</a>, <a href=\"https://yle.fi/a/74-20062381\">Study: Air purifier use at daycare centres cut kids' sick days by a third (2023)</a>, <a href=\"https://kennethnym.com/blog/why-i-still-wont-use-llm/\">The art of programming and why I won't use LLM</a>, <a href=\"https://pillser.com/engineering/2024-08-25-speeding-up-your-website-using-cloudflare-cache\">Speeding Up Your Website Using Cloudflare Cache</a>, <a href=\"https://www.theverge.com/2024/8/12/24218754/apple-idos-3-app-store-pc-emulator-rule-change\">Apple Approves iDOS Emulator</a>, <a href=\"https://www.thenation.com/article/culture/guy-davenport-geography-imagination/\" rel=\"nofollow\">Guy Davenport–The Last High Modernist</a>, <a href=\"https://www.bloomberg.com/news/newsletters/2024-08-25/apple-plans-tabletop-robot-while-exploring-mobile-bots-and-humanoid-machines-m09kawex\">Apple explores robotics in search of life beyond the iPhone</a>, <a href=\"https://chipsandcheese.com/2024/08/24/amds-radeon-890m-strix-points-bigger-igpu/\">AMD's Radeon 890M: Strix Point's Bigger iGPU</a>, <a href=\"https://amodernist.com/texts/fun-c.html\">Consistently Making Wrong Decisions Whilst Writing Recreational C</a>, <a href=\"https://milan.cvitkovic.net/writing/neurotechnology_numbers_worth_knowing/\">Neurotechnology numbers worth knowing (2022)</a>]\n"
     ]
    }
   ],
   "source": [
    "# Tag 중 앞쪽 'a' tag 항목만 추출\n",
    "articles = [article.find('a') for article in articles]\n",
    "print(articles)"
   ]
  },
  {
   "cell_type": "code",
   "execution_count": 84,
   "metadata": {},
   "outputs": [],
   "source": [
    "article_text = []\n",
    "article_link = []\n",
    "\n",
    "for article in articles:\n",
    "    article_text.append(article.getText())\n",
    "    article_link.append(article.get(\"href\"))"
   ]
  },
  {
   "cell_type": "code",
   "execution_count": 87,
   "metadata": {},
   "outputs": [
    {
     "name": "stdout",
     "output_type": "stream",
     "text": [
      "['Is Telegram really an encrypted messaging app?',\n",
      " 'GenAI diminishes creativity instead of inspiration',\n",
      " 'Strandbeest',\n",
      " 'TIL: Versions of UUID and when to use them',\n",
      " \"Lidl's Cloud Gambit: Europe's Shift to Sovereign Computing\",\n",
      " 'Los Angeles is in a 4-year sprint to deliver a car-free 2028 Olympics',\n",
      " 'Rnote – Sketch and take handwritten notes',\n",
      " 'Programming terrain from scratch using C++ and OpenGL by Shamus Young (2006)',\n",
      " 'Emulating the Early Macintosh Floppy Drive',\n",
      " 'BuffDB is a Rust library to simplify multi-plexing on edge devices',\n",
      " 'From Datalog to SVG',\n",
      " 'The Cryptographic Doom Principle (2011)',\n",
      " 'A Comparison of Arenas in Rust',\n",
      " 'Modern Wardriving (2023)',\n",
      " 'Arrest of Pavel Durov, Telegram CEO, charges of terrorism, fraud, child porn',\n",
      " 'Ask HN: What are you working on (August 2024)?',\n",
      " 'Telegram: We abide by EU laws, including the Digital Services Act',\n",
      " 'Finding a therapist who takes your insurance can be nearly impossible',\n",
      " 'Defenders think in lists, attackers think in graphs (2015)',\n",
      " \"Why don't we have personalized search engines?\",\n",
      " 'You are not dumb, you just lack the prerequisites',\n",
      " \"Study: Air purifier use at daycare centres cut kids' sick days by a third \"\n",
      " '(2023)',\n",
      " \"The art of programming and why I won't use LLM\",\n",
      " 'Speeding Up Your Website Using Cloudflare Cache',\n",
      " 'Apple Approves iDOS Emulator',\n",
      " 'Guy Davenport–The Last High Modernist',\n",
      " 'Apple explores robotics in search of life beyond the iPhone',\n",
      " \"AMD's Radeon 890M: Strix Point's Bigger iGPU\",\n",
      " 'Consistently Making Wrong Decisions Whilst Writing Recreational C',\n",
      " 'Neurotechnology numbers worth knowing (2022)']\n"
     ]
    }
   ],
   "source": [
    "pprint.pprint(article_text)"
   ]
  },
  {
   "cell_type": "code",
   "execution_count": 88,
   "metadata": {},
   "outputs": [
    {
     "name": "stdout",
     "output_type": "stream",
     "text": [
      "['https://blog.cryptographyengineering.com/2024/08/25/telegram-is-not-really-an-encrypted-messaging-app/',\n",
      " 'https://dl.acm.org/doi/full/10.1145/3613904.3642919',\n",
      " 'https://www.strandbeest.com/',\n",
      " 'https://ntietz.com/blog/til-uses-for-the-different-uuid-versions/',\n",
      " 'https://horovits.medium.com/lidl-is-taking-on-aws-the-age-of-eurocloud-b237258e3311',\n",
      " 'https://theconversation.com/los-angeles-is-in-a-4-year-sprint-to-deliver-a-car-free-2028-olympics-236925',\n",
      " 'https://github.com/flxzt/rnote',\n",
      " 'https://www.shamusyoung.com/twentysidedtale/?p=141',\n",
      " 'https://thomasw.dev/post/mac-floppy-emu/',\n",
      " 'https://github.com/buffdb/buffdb',\n",
      " 'https://inconvergent.net/2023/datalog-to-svg/',\n",
      " 'https://moxie.org/2011/12/13/the-cryptographic-doom-principle.html',\n",
      " 'https://donsz.nl/blog/arenas/',\n",
      " 'https://simonroses.com/2023/12/modern-wardriving/',\n",
      " 'https://decripto.org/en/arrest-of-pavel-durov-charges-of-terrorism-fraud-and-child-pornography-he-did-not-cooperate-with-the-authorities-he-risks-20-years-in-prison/',\n",
      " 'item?id=41342017',\n",
      " 'https://twitter.com/telegram/status/1827787345367834772',\n",
      " 'https://www.npr.org/sections/shots-health-news/2024/08/24/nx-s1-5028551/insurance-therapy-therapist-mental-health-coverage',\n",
      " 'https://github.com/JohnLaTwC/Shared/blob/master/Defenders%20think%20in%20lists.%20Attackers%20think%20in%20graphs.%20As%20long%20as%20this%20is%20true%2C%20attackers%20win.md',\n",
      " 'item?id=41337156',\n",
      " 'https://lelouch.dev/blog/you-are-probably-not-dumb/',\n",
      " 'https://yle.fi/a/74-20062381',\n",
      " 'https://kennethnym.com/blog/why-i-still-wont-use-llm/',\n",
      " 'https://pillser.com/engineering/2024-08-25-speeding-up-your-website-using-cloudflare-cache',\n",
      " 'https://www.theverge.com/2024/8/12/24218754/apple-idos-3-app-store-pc-emulator-rule-change',\n",
      " 'https://www.thenation.com/article/culture/guy-davenport-geography-imagination/',\n",
      " 'https://www.bloomberg.com/news/newsletters/2024-08-25/apple-plans-tabletop-robot-while-exploring-mobile-bots-and-humanoid-machines-m09kawex',\n",
      " 'https://chipsandcheese.com/2024/08/24/amds-radeon-890m-strix-points-bigger-igpu/',\n",
      " 'https://amodernist.com/texts/fun-c.html',\n",
      " 'https://milan.cvitkovic.net/writing/neurotechnology_numbers_worth_knowing/']\n"
     ]
    }
   ],
   "source": [
    "pprint.pprint(article_link)"
   ]
  },
  {
   "cell_type": "markdown",
   "metadata": {},
   "source": [
    "Article의 Point 가져오기"
   ]
  },
  {
   "cell_type": "code",
   "execution_count": 36,
   "metadata": {},
   "outputs": [
    {
     "name": "stdout",
     "output_type": "stream",
     "text": [
      "[<span class=\"score\" id=\"score_41350530\">55 points</span>,\n",
      " <span class=\"score\" id=\"score_41350273\">19 points</span>,\n",
      " <span class=\"score\" id=\"score_41347016\">240 points</span>,\n",
      " <span class=\"score\" id=\"score_41350225\">12 points</span>,\n",
      " <span class=\"score\" id=\"score_41348659\">172 points</span>,\n",
      " <span class=\"score\" id=\"score_41350286\">32 points</span>,\n",
      " <span class=\"score\" id=\"score_41348204\">74 points</span>,\n",
      " <span class=\"score\" id=\"score_41348000\">37 points</span>,\n",
      " <span class=\"score\" id=\"score_41348338\">35 points</span>,\n",
      " <span class=\"score\" id=\"score_41348631\">28 points</span>,\n",
      " <span class=\"score\" id=\"score_41347852\">45 points</span>,\n",
      " <span class=\"score\" id=\"score_41337301\">40 points</span>,\n",
      " <span class=\"score\" id=\"score_41313861\">27 points</span>,\n",
      " <span class=\"score\" id=\"score_41326169\">61 points</span>,\n",
      " <span class=\"score\" id=\"score_41347909\">498 points</span>,\n",
      " <span class=\"score\" id=\"score_41342017\">540 points</span>,\n",
      " <span class=\"score\" id=\"score_41350438\">10 points</span>,\n",
      " <span class=\"score\" id=\"score_41348421\">87 points</span>,\n",
      " <span class=\"score\" id=\"score_41342637\">348 points</span>,\n",
      " <span class=\"score\" id=\"score_41337156\">15 points</span>,\n",
      " <span class=\"score\" id=\"score_41338354\">625 points</span>,\n",
      " <span class=\"score\" id=\"score_41347868\">264 points</span>,\n",
      " <span class=\"score\" id=\"score_41349443\">94 points</span>,\n",
      " <span class=\"score\" id=\"score_41347290\">19 points</span>,\n",
      " <span class=\"score\" id=\"score_41348412\">35 points</span>,\n",
      " <span class=\"score\" id=\"score_41335770\">5 points</span>,\n",
      " <span class=\"score\" id=\"score_41348096\">37 points</span>,\n",
      " <span class=\"score\" id=\"score_41341786\">143 points</span>,\n",
      " <span class=\"score\" id=\"score_41336762\">190 points</span>,\n",
      " <span class=\"score\" id=\"score_41344176\">136 points</span>]\n"
     ]
    }
   ],
   "source": [
    "#article_scores = soup.find_all(\"span\", {\"class\":\"score\"})\n",
    "article_scores = soup.find_all(name=\"span\", class_=\"score\")\n",
    "pprint.pprint(article_scores)"
   ]
  },
  {
   "cell_type": "code",
   "execution_count": 24,
   "metadata": {},
   "outputs": [
    {
     "name": "stdout",
     "output_type": "stream",
     "text": [
      "30\n"
     ]
    }
   ],
   "source": [
    "print(len(article_scores))"
   ]
  },
  {
   "cell_type": "code",
   "execution_count": 37,
   "metadata": {},
   "outputs": [
    {
     "name": "stdout",
     "output_type": "stream",
     "text": [
      "55 points\n",
      "19 points\n",
      "240 points\n",
      "12 points\n",
      "172 points\n",
      "32 points\n",
      "74 points\n",
      "37 points\n",
      "35 points\n",
      "28 points\n",
      "45 points\n",
      "40 points\n",
      "27 points\n",
      "61 points\n",
      "498 points\n",
      "540 points\n",
      "10 points\n",
      "87 points\n",
      "348 points\n",
      "15 points\n",
      "625 points\n",
      "264 points\n",
      "94 points\n",
      "19 points\n",
      "35 points\n",
      "5 points\n",
      "37 points\n",
      "143 points\n",
      "190 points\n",
      "136 points\n"
     ]
    }
   ],
   "source": [
    "for score in article_scores:\n",
    "    print(score.getText())"
   ]
  },
  {
   "cell_type": "code",
   "execution_count": 89,
   "metadata": {},
   "outputs": [
    {
     "name": "stdout",
     "output_type": "stream",
     "text": [
      "[55, 19, 240, 12, 172, 32, 74, 37, 35, 28, 45, 40, 27, 61, 498, 540, 10, 87, 348, 15, 625, 264, 94, 19, 35, 5, 37, 143, 190, 136]\n"
     ]
    }
   ],
   "source": [
    "article_upvote = []\n",
    "\n",
    "#article_upvote = [int(score.getText().split()[0] for score in article_scores)]\n",
    "for score in article_scores:\n",
    "    article_upvote.append(int(score.getText().split()[0]))\n",
    "    \n",
    "print(article_upvote)"
   ]
  },
  {
   "cell_type": "code",
   "execution_count": 91,
   "metadata": {},
   "outputs": [
    {
     "name": "stdout",
     "output_type": "stream",
     "text": [
      "You are not dumb, you just lack the prerequisites\n",
      "https://lelouch.dev/blog/you-are-probably-not-dumb/\n",
      "625\n"
     ]
    }
   ],
   "source": [
    "largest_score = max(article_upvote)\n",
    "largest_index = article_upvote.index(largest_score)\n",
    "\n",
    "print(article_text[largest_index])\n",
    "print(article_link[largest_index])\n",
    "print(largest_score)"
   ]
  },
  {
   "cell_type": "code",
   "execution_count": null,
   "metadata": {},
   "outputs": [],
   "source": []
  }
 ],
 "metadata": {
  "kernelspec": {
   "display_name": "Python 3",
   "language": "python",
   "name": "python3"
  },
  "language_info": {
   "codemirror_mode": {
    "name": "ipython",
    "version": 3
   },
   "file_extension": ".py",
   "mimetype": "text/x-python",
   "name": "python",
   "nbconvert_exporter": "python",
   "pygments_lexer": "ipython3",
   "version": "3.11.9"
  }
 },
 "nbformat": 4,
 "nbformat_minor": 2
}
